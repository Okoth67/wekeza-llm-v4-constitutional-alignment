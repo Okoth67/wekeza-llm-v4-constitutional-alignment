{
 "cells": [
  {
   "cell_type": "code",
   "execution_count": 15,
   "id": "4b9652fa-e25a-47c7-8eaa-35fd79935502",
   "metadata": {},
   "outputs": [
    {
     "data": {
      "text/plain": [
       "GPT2LMHeadModel(\n",
       "  (transformer): GPT2Model(\n",
       "    (wte): Embedding(50257, 768)\n",
       "    (wpe): Embedding(1024, 768)\n",
       "    (drop): Dropout(p=0.1, inplace=False)\n",
       "    (h): ModuleList(\n",
       "      (0-5): 6 x GPT2Block(\n",
       "        (ln_1): LayerNorm((768,), eps=1e-05, elementwise_affine=True)\n",
       "        (attn): GPT2Attention(\n",
       "          (c_attn): lora.Linear(\n",
       "            (base_layer): Conv1D(nf=2304, nx=768)\n",
       "            (lora_dropout): ModuleDict(\n",
       "              (default): Dropout(p=0.05, inplace=False)\n",
       "            )\n",
       "            (lora_A): ModuleDict(\n",
       "              (default): Linear(in_features=768, out_features=8, bias=False)\n",
       "            )\n",
       "            (lora_B): ModuleDict(\n",
       "              (default): Linear(in_features=8, out_features=2304, bias=False)\n",
       "            )\n",
       "            (lora_embedding_A): ParameterDict()\n",
       "            (lora_embedding_B): ParameterDict()\n",
       "            (lora_magnitude_vector): ModuleDict()\n",
       "          )\n",
       "          (c_proj): lora.Linear(\n",
       "            (base_layer): Conv1D(nf=768, nx=768)\n",
       "            (lora_dropout): ModuleDict(\n",
       "              (default): Dropout(p=0.05, inplace=False)\n",
       "            )\n",
       "            (lora_A): ModuleDict(\n",
       "              (default): Linear(in_features=768, out_features=8, bias=False)\n",
       "            )\n",
       "            (lora_B): ModuleDict(\n",
       "              (default): Linear(in_features=8, out_features=768, bias=False)\n",
       "            )\n",
       "            (lora_embedding_A): ParameterDict()\n",
       "            (lora_embedding_B): ParameterDict()\n",
       "            (lora_magnitude_vector): ModuleDict()\n",
       "          )\n",
       "          (attn_dropout): Dropout(p=0.1, inplace=False)\n",
       "          (resid_dropout): Dropout(p=0.1, inplace=False)\n",
       "        )\n",
       "        (ln_2): LayerNorm((768,), eps=1e-05, elementwise_affine=True)\n",
       "        (mlp): GPT2MLP(\n",
       "          (c_fc): Conv1D(nf=3072, nx=768)\n",
       "          (c_proj): lora.Linear(\n",
       "            (base_layer): Conv1D(nf=768, nx=3072)\n",
       "            (lora_dropout): ModuleDict(\n",
       "              (default): Dropout(p=0.05, inplace=False)\n",
       "            )\n",
       "            (lora_A): ModuleDict(\n",
       "              (default): Linear(in_features=3072, out_features=8, bias=False)\n",
       "            )\n",
       "            (lora_B): ModuleDict(\n",
       "              (default): Linear(in_features=8, out_features=768, bias=False)\n",
       "            )\n",
       "            (lora_embedding_A): ParameterDict()\n",
       "            (lora_embedding_B): ParameterDict()\n",
       "            (lora_magnitude_vector): ModuleDict()\n",
       "          )\n",
       "          (act): NewGELUActivation()\n",
       "          (dropout): Dropout(p=0.1, inplace=False)\n",
       "        )\n",
       "      )\n",
       "    )\n",
       "    (ln_f): LayerNorm((768,), eps=1e-05, elementwise_affine=True)\n",
       "  )\n",
       "  (lm_head): Linear(in_features=768, out_features=50257, bias=False)\n",
       ")"
      ]
     },
     "execution_count": 15,
     "metadata": {},
     "output_type": "execute_result"
    }
   ],
   "source": [
    "from transformers import AutoTokenizer, AutoModelForCausalLM\n",
    "import torch\n",
    "\n",
    "model_path = \"./distilgpt2-wekeza-finetuned_v3_lora\"\n",
    "\n",
    "tokenizer = AutoTokenizer.from_pretrained(model_path)\n",
    "tokenizer.pad_token = tokenizer.eos_token\n",
    "model = AutoModelForCausalLM.from_pretrained(model_path)\n",
    "\n",
    "device = torch.device(\"cuda\" if torch.cuda.is_available() else \"cpu\")\n",
    "model.to(device)\n",
    "model.eval()\n"
   ]
  },
  {
   "cell_type": "code",
   "execution_count": 16,
   "id": "f002a837-b06c-4dbe-b5cb-f8da4c4e216c",
   "metadata": {},
   "outputs": [],
   "source": [
    "wekeza_constitution = [\n",
    "    \"Always give investment advice that is realistic and tailored to Kenya.\",\n",
    "    \"Do not promise guaranteed returns.\",\n",
    "    \"If asked about risk, explain that all investments carry some form of risk.\",\n",
    "    \"Avoid giving financial advice that promotes scams, betting, or unregulated platforms.\",\n",
    "    \"Always recommend verified, regulated entities (e.g., CMA licensed MMFs).\",\n",
    "    \"If unsure about a fact, say so rather than guessing.\",\n",
    "    \"Be concise, respectful, and informative.\"\n",
    "]\n"
   ]
  },
  {
   "cell_type": "code",
   "execution_count": 23,
   "id": "27adc547-5639-41d6-85f9-7b120a93444d",
   "metadata": {},
   "outputs": [],
   "source": [
    "#initial response\n",
    "def generate_response(prompt, max_new_tokens=100):\n",
    "    inputs = tokenizer(prompt, return_tensors=\"pt\").to(device)\n",
    "    outputs = model.generate(\n",
    "        **inputs,\n",
    "        max_new_tokens=max_new_tokens,\n",
    "        temperature=0.7,\n",
    "        top_k=50,\n",
    "        top_p=0.95,\n",
    "        no_repeat_ngram_size=3,\n",
    "        pad_token_id=tokenizer.eos_token_id\n",
    "    )\n",
    "    return tokenizer.decode(outputs[0], skip_special_tokens=True)\n"
   ]
  },
  {
   "cell_type": "code",
   "execution_count": 24,
   "id": "3aa3a0f5-88e8-4599-9d85-c0d40e76cc8b",
   "metadata": {},
   "outputs": [],
   "source": [
    "#critique the response using the constitution\n",
    "def critique_response(prompt, response, constitution):\n",
    "    critique_prompt = f\"\"\"You are an AI trained to follow ethical investment guidelines in Kenya. Below is a user question and the assistant's answer.\n",
    "\n",
    "Your task is to write a short critique pointing out any harmful, unrealistic, repetitive, or vague advice in the assistant's answer, using the constitution.\n",
    "\n",
    "Constitution:\n",
    "{constitution}\n",
    "\n",
    "User Question:\n",
    "{prompt}\n",
    "\n",
    "Assistant's Answer:\n",
    "{response}\n",
    "\n",
    "Critique:\"\"\"\n",
    "    return generate_response(critique_prompt, max_new_tokens=150)\n",
    "\n"
   ]
  },
  {
   "cell_type": "code",
   "execution_count": 25,
   "id": "f65aff9d-45aa-42ae-a358-4799303d242f",
   "metadata": {},
   "outputs": [],
   "source": [
    "#revising the response using the critique\n",
    "def revise_response(prompt, response, critique):\n",
    "    revision_prompt = f\"\"\"You are a helpful Kenyan financial assistant. Improve the assistant’s original answer using the critique. The revised answer should be helpful, realistic, and non-repetitive.\n",
    "\n",
    "User Question:\n",
    "{prompt}\n",
    "\n",
    "Original Answer:\n",
    "{response}\n",
    "\n",
    "Critique:\n",
    "{critique}\n",
    "\n",
    "Improved Answer:\"\"\"\n",
    "    return generate_response(revision_prompt, max_new_tokens=150)\n",
    "\n"
   ]
  },
  {
   "cell_type": "code",
   "execution_count": 26,
   "id": "cb53b2b3-782c-4660-a63f-41cc2e2f43f4",
   "metadata": {},
   "outputs": [],
   "source": [
    "#dataset formatting\n",
    "import json\n",
    "\n",
    "def save_aligned_example(prompt, original, critique, revised, path=\"wekeza_self_aligned.jsonl\"):\n",
    "    entry = {\n",
    "        \"instruction\": f\"{prompt}\\n\\nOriginal: {original}\\n\\nCritique: {critique}\",\n",
    "        \"input\": \"\",\n",
    "        \"output\": revised\n",
    "    }\n",
    "    with open(path, \"a\", encoding=\"utf-8\") as f:\n",
    "        f.write(json.dumps(entry) + \"\\n\")\n"
   ]
  },
  {
   "cell_type": "code",
   "execution_count": 27,
   "id": "dc6af5d0-7b00-4f1e-a27e-a277ce681801",
   "metadata": {},
   "outputs": [
    {
     "name": "stderr",
     "output_type": "stream",
     "text": [
      "The following generation flags are not valid and may be ignored: ['temperature', 'top_p']. Set `TRANSFORMERS_VERBOSITY=info` for more details.\n",
      "The following generation flags are not valid and may be ignored: ['temperature', 'top_p']. Set `TRANSFORMERS_VERBOSITY=info` for more details.\n",
      "The following generation flags are not valid and may be ignored: ['temperature', 'top_p']. Set `TRANSFORMERS_VERBOSITY=info` for more details.\n"
     ]
    },
    {
     "name": "stdout",
     "output_type": "stream",
     "text": [
      "Original:\n",
      " Which is the best money market fund in Kenya right now?\n",
      "\n",
      "### Response:\n",
      "Yes, the fund offers excellent returns, with returns averaging 8-11% annually, with average returns averaging 9-11%. However, if you're in Kenya, you'll need to invest in several different fund managers to get the most out of your money. Check with your bank or bank to make sure you're aware of their policies and regulations. Check your bank's website for more information. Check their website for additional information.\n",
      "### Return:\n",
      "Compare returns vs\n",
      "\n",
      "Critique:\n",
      " You are an AI trained to follow ethical investment guidelines in Kenya. Below is a user question and the assistant's answer.\n",
      "\n",
      "Your task is to write a short critique pointing out any harmful, unrealistic, repetitive, or vague advice in the assistant's answer, using the constitution.\n",
      "\n",
      "Constitution:\n",
      "Always give investment advice that is realistic and tailored to Kenya.\n",
      "Do not promise guaranteed returns.\n",
      "If asked about risk, explain that all investments carry some form of risk.\n",
      "Avoid giving financial advice that promotes scams, betting, or unregulated platforms.\n",
      "Always recommend verified, regulated entities (e.g., CMA licensed MMFs).\n",
      "If unsure about a fact, say so rather than guessing.\n",
      "Be concise, respectful, and informative.\n",
      "\n",
      "User Question:\n",
      "Which is the best money market fund in Kenya right now?\n",
      "\n",
      "Assistant's Answer:\n",
      "Which is the best money market fund in Kenya right now?\n",
      "\n",
      "### Response:\n",
      "Yes, the fund offers excellent returns, with returns averaging 8-11% annually, with average returns averaging 9-11%. However, if you're in Kenya, you'll need to invest in several different fund managers to get the most out of your money. Check with your bank or bank to make sure you're aware of their policies and regulations. Check your bank's website for more information. Check their website for additional information.\n",
      "### Return:\n",
      "Compare returns vs\n",
      "\n",
      "Critique:\n",
      "What is the difference between a money market funds and a money-market fund in Kenyan?\n",
      "### Answer: Both are better than the other, with better returns averaging 10-11%, with average return averaging 9.11%. Both are safer than the others, with higher returns averaging 12-11%). Both are more accessible than the same fund managers, with more transparency and oversight. Check the website for details. Check both websites for additional details.\n",
      "Compare return vs\n",
      "What's the difference in returns vs. risks?\n",
      "Compare rates vs. risk. Check different fund manager's statements. Check each of their own. Check all their own statements. Verify your own statements before making a decision. Check whether your investment is safe or not. Check\n",
      "\n",
      "Revised:\n",
      " You are a helpful Kenyan financial assistant. Improve the assistant’s original answer using the critique. The revised answer should be helpful, realistic, and non-repetitive.\n",
      "\n",
      "User Question:\n",
      "Which is the best money market fund in Kenya right now?\n",
      "\n",
      "Original Answer:\n",
      "Which is the best money market fund in Kenya right now?\n",
      "\n",
      "### Response:\n",
      "Yes, the fund offers excellent returns, with returns averaging 8-11% annually, with average returns averaging 9-11%. However, if you're in Kenya, you'll need to invest in several different fund managers to get the most out of your money. Check with your bank or bank to make sure you're aware of their policies and regulations. Check your bank's website for more information. Check their website for additional information.\n",
      "### Return:\n",
      "Compare returns vs\n",
      "\n",
      "Critique:\n",
      "You are an AI trained to follow ethical investment guidelines in Kenya. Below is a user question and the assistant's answer.\n",
      "\n",
      "Your task is to write a short critique pointing out any harmful, unrealistic, repetitive, or vague advice in the assistant's answer, using the constitution.\n",
      "\n",
      "Constitution:\n",
      "Always give investment advice that is realistic and tailored to Kenya.\n",
      "Do not promise guaranteed returns.\n",
      "If asked about risk, explain that all investments carry some form of risk.\n",
      "Avoid giving financial advice that promotes scams, betting, or unregulated platforms.\n",
      "Always recommend verified, regulated entities (e.g., CMA licensed MMFs).\n",
      "If unsure about a fact, say so rather than guessing.\n",
      "Be concise, respectful, and informative.\n",
      "\n",
      "User Question:\n",
      "Which is the best money market fund in Kenya right now?\n",
      "\n",
      "Assistant's Answer:\n",
      "Which is the best money market fund in Kenya right now?\n",
      "\n",
      "### Response:\n",
      "Yes, the fund offers excellent returns, with returns averaging 8-11% annually, with average returns averaging 9-11%. However, if you're in Kenya, you'll need to invest in several different fund managers to get the most out of your money. Check with your bank or bank to make sure you're aware of their policies and regulations. Check your bank's website for more information. Check their website for additional information.\n",
      "### Return:\n",
      "Compare returns vs\n",
      "\n",
      "Critique:\n",
      "What is the difference between a money market funds and a money-market fund in Kenyan?\n",
      "### Answer: Both are better than the other, with better returns averaging 10-11%, with average return averaging 9.11%. Both are safer than the others, with higher returns averaging 12-11%). Both are more accessible than the same fund managers, with more transparency and oversight. Check the website for details. Check both websites for additional details.\n",
      "Compare return vs\n",
      "What's the difference in returns vs. risks?\n",
      "Compare rates vs. risk. Check different fund manager's statements. Check each of their own. Check all their own statements. Verify your own statements before making a decision. Check whether your investment is safe or not. Check\n",
      "\n",
      "Improved Answer: (e) No, you're a professional fund manager, and you're not a professional manager. Check CMA-licensed entities like CMA or CBK licensed entities like CBK. Check CBK-licensed institutions like CBM licensed entities. Check CCK licensed institutions like CBA licensed entities, CBK regulated entities. Verify CMA regulated entities like CCK regulated institutions like CCM licensed institutions. Check licensed institutions such as CBK regulatory entities.\n",
      "Visit CBK's website to make a decision about risk. Use the CMA's website. Check regulatory entities like NCM licensed structures like CBP licensed entities or CBP regulated entities, and CBP regulatory entities (like CBP). Check licensed entities such as NCM regulated entities\n"
     ]
    }
   ],
   "source": [
    "#full loop automation\n",
    "prompt = \"Which is the best money market fund in Kenya right now?\"\n",
    "\n",
    "original = generate_response(prompt)\n",
    "critique = critique_response(prompt, original, \"\\n\".join(wekeza_constitution))\n",
    "revised = revise_response(prompt, original, critique)\n",
    "\n",
    "print(\"Original:\\n\", original)\n",
    "print(\"\\nCritique:\\n\", critique)\n",
    "print(\"\\nRevised:\\n\", revised)\n"
   ]
  },
  {
   "cell_type": "code",
   "execution_count": 22,
   "id": "14639f35-ed0f-4dc9-aa92-bec01b073d1b",
   "metadata": {},
   "outputs": [
    {
     "name": "stdout",
     "output_type": "stream",
     "text": [
      "Original:\n",
      " Which is the best money market fund in Kenya right now?\n",
      "\n",
      "### Response:\n",
      "Yes, the fund offers excellent returns, with returns averaging 8-11% annually, with returns averaging 8-11% annually. However, if you're in Kenya, you'll need to invest in several different fund managers to get the most out of your investment. Check with your local bank to make sure you're aware of their investment options. Check with your local bank to make sure you're aware of their investment options. Check with your local bank to make sure you\n",
      "\n",
      "Critique:\n",
      " \n",
      "Given the following user prompt and assistant response, critique the assistant’s response based on the following principles:\n",
      "\n",
      "Constitution:\n",
      "Always give investment advice that is realistic and tailored to Kenya.\n",
      "Do not promise guaranteed returns.\n",
      "If asked about risk, explain that all investments carry some form of risk.\n",
      "Avoid giving financial advice that promotes scams, betting, or unregulated platforms.\n",
      "Always recommend verified, regulated entities (e.g., CMA licensed MMFs).\n",
      "If unsure about a fact, say so rather than guessing.\n",
      "Be concise, respectful, and informative.\n",
      "\n",
      "User Prompt:\n",
      "Which is the best money market fund in Kenya right now?\n",
      "\n",
      "Assistant Response:\n",
      "Which is the best money market fund in Kenya right now?\n",
      "\n",
      "### Response:\n",
      "Yes, the fund offers excellent returns, with returns averaging 8-11% annually, with returns averaging 8-11% annually. However, if you're in Kenya, you'll need to invest in several different fund managers to get the most out of your investment. Check with your local bank to make sure you're aware of their investment options. Check with your local bank to make sure you're aware of their investment options. Check with your local bank to make sure you\n",
      "\n",
      "Critique:\n",
      "Can I invest in more than one fund manager?\n",
      "### Response:\n",
      "Yes, the fund offers excellent returns, with returns averaging 8-11% annually, with returns averaging 8-11% annually. However, if you're in Kenya, you'll need to invest in several different fund managers to get the most out of your investment. Check with your local bank to make sure you're aware of their investment options. Check with your local bank to make sure you're aware of their investment options.\n",
      "\n",
      "Revised:\n",
      " \n",
      "Revise the assistant's response based on the following critique.\n",
      "\n",
      "User Prompt:\n",
      "Which is the best money market fund in Kenya right now?\n",
      "\n",
      "Original Response:\n",
      "Which is the best money market fund in Kenya right now?\n",
      "\n",
      "### Response:\n",
      "Yes, the fund offers excellent returns, with returns averaging 8-11% annually, with returns averaging 8-11% annually. However, if you're in Kenya, you'll need to invest in several different fund managers to get the most out of your investment. Check with your local bank to make sure you're aware of their investment options. Check with your local bank to make sure you're aware of their investment options. Check with your local bank to make sure you\n",
      "\n",
      "Critique:\n",
      "\n",
      "Given the following user prompt and assistant response, critique the assistant’s response based on the following principles:\n",
      "\n",
      "Constitution:\n",
      "Always give investment advice that is realistic and tailored to Kenya.\n",
      "Do not promise guaranteed returns.\n",
      "If asked about risk, explain that all investments carry some form of risk.\n",
      "Avoid giving financial advice that promotes scams, betting, or unregulated platforms.\n",
      "Always recommend verified, regulated entities (e.g., CMA licensed MMFs).\n",
      "If unsure about a fact, say so rather than guessing.\n",
      "Be concise, respectful, and informative.\n",
      "\n",
      "User Prompt:\n",
      "Which is the best money market fund in Kenya right now?\n",
      "\n",
      "Assistant Response:\n",
      "Which is the best money market fund in Kenya right now?\n",
      "\n",
      "### Response:\n",
      "Yes, the fund offers excellent returns, with returns averaging 8-11% annually, with returns averaging 8-11% annually. However, if you're in Kenya, you'll need to invest in several different fund managers to get the most out of your investment. Check with your local bank to make sure you're aware of their investment options. Check with your local bank to make sure you're aware of their investment options. Check with your local bank to make sure you\n",
      "\n",
      "Critique:\n",
      "Can I invest in more than one fund manager?\n",
      "### Response:\n",
      "Yes, the fund offers excellent returns, with returns averaging 8-11% annually, with returns averaging 8-11% annually. However, if you're in Kenya, you'll need to invest in several different fund managers to get the most out of your investment. Check with your local bank to make sure you're aware of their investment options. Check with your local bank to make sure you're aware of their investment options.\n",
      "\n",
      "Improved Response:\n",
      "Compare your investment options to other fund managers, and compare your investment options to other fund managers, and compare your investment options to other fund managers, and compare your investment options to other fund managers, and compare your investment options to other fund managers, and compare your investment options to other fund managers, and compare your investment options to other fund managers, and compare your investment options to other fund managers, and compare your investment options to other fund managers, and compare your investment options to other fund managers, and\n"
     ]
    }
   ],
   "source": [
    "print(\"Original:\\n\", original)\n",
    "print(\"\\nCritique:\\n\", critique)\n",
    "print(\"\\nRevised:\\n\", revised)\n"
   ]
  },
  {
   "cell_type": "code",
   "execution_count": 30,
   "id": "69021b62-a019-4369-99d4-36ce4332f096",
   "metadata": {},
   "outputs": [],
   "source": [
    "import json\n",
    "import os\n",
    "from datetime import datetime\n",
    "\n",
    "alignment_data_file = \"constitutionaligned_kenyan_finance_dataset_v3.jsonl\"\n",
    "backup_dir = \"aligned_backups\"\n",
    "os.makedirs(backup_dir, exist_ok=True)\n",
    "\n",
    "def save_aligned_example(prompt, original, critique, revised):\n",
    "    data = {\n",
    "        \"prompt\": prompt,\n",
    "        \"original\": original,\n",
    "        \"critique\": critique,\n",
    "        \"revised\": revised\n",
    "    }\n",
    "\n",
    "    # Save to main aligned dataset\n",
    "    with open(alignment_data_file, \"a\", encoding=\"utf-8\") as f:\n",
    "        f.write(json.dumps(data, ensure_ascii=False) + \"\\n\")\n",
    "\n",
    "    # Also save timestamped backup in subfolder\n",
    "    timestamp = datetime.now().strftime(\"%Y%m%d_%H%M%S\")\n",
    "    backup_path = os.path.join(backup_dir, f\"{timestamp}.jsonl\")\n",
    "    with open(backup_path, \"w\", encoding=\"utf-8\") as f:\n",
    "        f.write(json.dumps(data, ensure_ascii=False) + \"\\n\")\n",
    "\n",
    "    print(f\"Example saved to {alignment_data_file} and backup created at {backup_path}\")\n"
   ]
  },
  {
   "cell_type": "code",
   "execution_count": 31,
   "id": "84cd5318-9356-4959-bf15-f7a337dfbf80",
   "metadata": {},
   "outputs": [
    {
     "name": "stderr",
     "output_type": "stream",
     "text": [
      "The following generation flags are not valid and may be ignored: ['temperature', 'top_p']. Set `TRANSFORMERS_VERBOSITY=info` for more details.\n",
      "The following generation flags are not valid and may be ignored: ['temperature', 'top_p']. Set `TRANSFORMERS_VERBOSITY=info` for more details.\n",
      "The following generation flags are not valid and may be ignored: ['temperature', 'top_p']. Set `TRANSFORMERS_VERBOSITY=info` for more details.\n"
     ]
    },
    {
     "name": "stdout",
     "output_type": "stream",
     "text": [
      "Example saved to constitutionaligned_kenyan_finance_dataset_v3.jsonl and backup created at aligned_backups\\20250801_154517.jsonl\n"
     ]
    }
   ],
   "source": [
    "prompt = \"Explain the risks of investing in unregulated SACCOs in Kenya.\"\n",
    "\n",
    "original = generate_response(prompt)\n",
    "critique = critique_response(prompt, original, \"\\n\".join(wekeza_constitution))\n",
    "revised = revise_response(prompt, original, critique)\n",
    "\n",
    "save_aligned_example(prompt, original, critique, revised)\n"
   ]
  },
  {
   "cell_type": "code",
   "execution_count": 35,
   "id": "a85a1891-69b7-4b3b-b69f-799ebd364fb1",
   "metadata": {},
   "outputs": [],
   "source": [
    "!pip install -q peft transformers datasets accelerate\n",
    "\n",
    "import torch\n",
    "from transformers import AutoTokenizer, AutoModelForCausalLM, TrainingArguments, Trainer, DataCollatorForLanguageModeling\n",
    "from datasets import load_dataset, Dataset\n",
    "from peft import LoraConfig, get_peft_model, prepare_model_for_kbit_training, TaskType\n",
    "import json\n"
   ]
  },
  {
   "cell_type": "code",
   "execution_count": 37,
   "id": "28662e3a-9199-43cd-8d93-e39437f75b0e",
   "metadata": {},
   "outputs": [
    {
     "data": {
      "text/plain": [
       "Embedding(50257, 768)"
      ]
     },
     "execution_count": 37,
     "metadata": {},
     "output_type": "execute_result"
    }
   ],
   "source": [
    "my_model_path = \"./distilgpt2-wekeza-finetuned_v3_lora\"\n",
    "\n",
    "tokenizer = AutoTokenizer.from_pretrained(my_model_path)\n",
    "model = AutoModelForCausalLM.from_pretrained(my_model_path)\n",
    "tokenizer.pad_token = tokenizer.eos_token\n",
    "model.resize_token_embeddings(len(tokenizer))\n"
   ]
  },
  {
   "cell_type": "code",
   "execution_count": 38,
   "id": "8b99b23f-7669-4bc4-a960-94fc1dc329e8",
   "metadata": {},
   "outputs": [],
   "source": [
    "def load_jsonl(file_path):\n",
    "    with open(file_path, 'r') as f:\n",
    "        lines = [json.loads(line) for line in f]\n",
    "    return Dataset.from_list(lines)\n",
    "\n",
    "dataset = load_jsonl(\"constitutionaligned_kenyan_finance_dataset_v3.jsonl\")\n"
   ]
  },
  {
   "cell_type": "code",
   "execution_count": 39,
   "id": "ba8c7127-4dee-40c5-9c15-bf2271972285",
   "metadata": {},
   "outputs": [
    {
     "name": "stderr",
     "output_type": "stream",
     "text": [
      "Map: 100%|███████████████████████████████████████████████████████████████████████| 1/1 [00:00<00:00, 163.71 examples/s]\n"
     ]
    }
   ],
   "source": [
    "#formatting the dataset for finetuning\n",
    "def format_example(example):\n",
    "    return {\n",
    "        \"text\": f\"### Instruction:\\n{example['prompt']}\\n\\n### Response:\\n{example['revised']}\"\n",
    "    }\n",
    "\n",
    "dataset = dataset.map(format_example)\n"
   ]
  },
  {
   "cell_type": "code",
   "execution_count": 40,
   "id": "c5948c74-1d9f-4d22-9e2c-0c762b8f0cea",
   "metadata": {},
   "outputs": [
    {
     "name": "stderr",
     "output_type": "stream",
     "text": [
      "Map: 100%|████████████████████████████████████████████████████████████████████████| 1/1 [00:00<00:00, 75.01 examples/s]\n"
     ]
    }
   ],
   "source": [
    "#tokenizing\n",
    "def tokenize_function(example):\n",
    "    return tokenizer(\n",
    "        example[\"text\"],\n",
    "        truncation=True,\n",
    "        padding=\"max_length\",\n",
    "        max_length=512,\n",
    "    )\n",
    "\n",
    "tokenized_dataset = dataset.map(tokenize_function, batched=True)\n"
   ]
  },
  {
   "cell_type": "code",
   "execution_count": 41,
   "id": "0a3b8c42-8ae7-4731-a738-0f237b5e125b",
   "metadata": {},
   "outputs": [
    {
     "name": "stdout",
     "output_type": "stream",
     "text": [
      "trainable params: 405,504 || all params: 82,318,080 || trainable%: 0.4926\n"
     ]
    },
    {
     "name": "stderr",
     "output_type": "stream",
     "text": [
      "C:\\Users\\bbollo\\AppData\\Local\\anaconda3\\envs\\wekeza\\lib\\site-packages\\peft\\mapping_func.py:73: UserWarning: You are trying to modify a model with PEFT for a second time. If you want to reload the model with a different config, make sure to call `.unload()` before.\n",
      "  warnings.warn(\n",
      "C:\\Users\\bbollo\\AppData\\Local\\anaconda3\\envs\\wekeza\\lib\\site-packages\\peft\\tuners\\tuners_utils.py:190: UserWarning: Already found a `peft_config` attribute in the model. This will lead to having multiple adapters in the model. Make sure to know what you are doing!\n",
      "  warnings.warn(\n"
     ]
    }
   ],
   "source": [
    "#lora\n",
    "lora_config = LoraConfig(\n",
    "    r=8,\n",
    "    lora_alpha=16,\n",
    "    target_modules=[\"c_attn\", \"c_proj\"],  # for distilgpt2\n",
    "    lora_dropout=0.05,\n",
    "    bias=\"none\",\n",
    "    task_type=TaskType.CAUSAL_LM,\n",
    ")\n",
    "\n",
    "model = get_peft_model(model, lora_config)\n",
    "model.print_trainable_parameters()\n"
   ]
  },
  {
   "cell_type": "code",
   "execution_count": 42,
   "id": "e0e03657-ad2d-4120-80af-77c3e1a2e7b5",
   "metadata": {},
   "outputs": [],
   "source": [
    "training_args = TrainingArguments(\n",
    "    output_dir=\"./distilgpt2-wekeza-finetuned_v4_lora\",\n",
    "    per_device_train_batch_size=4,\n",
    "    num_train_epochs=3,\n",
    "    learning_rate=5e-5,\n",
    "    logging_steps=10,\n",
    "    save_strategy=\"epoch\",\n",
    "    save_total_limit=2,\n",
    "    bf16=False,\n",
    "    fp16=True,\n",
    "    report_to=\"none\"\n",
    ")\n",
    "\n",
    "data_collator = DataCollatorForLanguageModeling(tokenizer=tokenizer, mlm=False)\n"
   ]
  },
  {
   "cell_type": "code",
   "execution_count": 43,
   "id": "68530f66-386c-4d2a-b24d-800c1f42ac75",
   "metadata": {},
   "outputs": [
    {
     "name": "stderr",
     "output_type": "stream",
     "text": [
      "C:\\Users\\bbollo\\AppData\\Local\\Temp\\ipykernel_16176\\1889173795.py:1: FutureWarning: `tokenizer` is deprecated and will be removed in version 5.0.0 for `Trainer.__init__`. Use `processing_class` instead.\n",
      "  trainer = Trainer(\n",
      "No label_names provided for model class `PeftModelForCausalLM`. Since `PeftModel` hides base models input arguments, if label_names is not given, label_names can't be set automatically within `Trainer`. Note that empty label_names list will be used instead.\n",
      "C:\\Users\\bbollo\\AppData\\Local\\anaconda3\\envs\\wekeza\\lib\\site-packages\\torch\\utils\\data\\dataloader.py:665: UserWarning: 'pin_memory' argument is set as true but no accelerator is found, then device pinned memory won't be used.\n",
      "  warnings.warn(warn_msg)\n",
      "`loss_type=None` was set in the config but it is unrecognised.Using the default loss: `ForCausalLMLoss`.\n"
     ]
    },
    {
     "data": {
      "text/html": [
       "\n",
       "    <div>\n",
       "      \n",
       "      <progress value='3' max='3' style='width:300px; height:20px; vertical-align: middle;'></progress>\n",
       "      [3/3 00:04, Epoch 3/3]\n",
       "    </div>\n",
       "    <table border=\"1\" class=\"dataframe\">\n",
       "  <thead>\n",
       " <tr style=\"text-align: left;\">\n",
       "      <th>Step</th>\n",
       "      <th>Training Loss</th>\n",
       "    </tr>\n",
       "  </thead>\n",
       "  <tbody>\n",
       "  </tbody>\n",
       "</table><p>"
      ],
      "text/plain": [
       "<IPython.core.display.HTML object>"
      ]
     },
     "metadata": {},
     "output_type": "display_data"
    },
    {
     "name": "stderr",
     "output_type": "stream",
     "text": [
      "C:\\Users\\bbollo\\AppData\\Local\\anaconda3\\envs\\wekeza\\lib\\site-packages\\torch\\utils\\data\\dataloader.py:665: UserWarning: 'pin_memory' argument is set as true but no accelerator is found, then device pinned memory won't be used.\n",
      "  warnings.warn(warn_msg)\n",
      "C:\\Users\\bbollo\\AppData\\Local\\anaconda3\\envs\\wekeza\\lib\\site-packages\\torch\\utils\\data\\dataloader.py:665: UserWarning: 'pin_memory' argument is set as true but no accelerator is found, then device pinned memory won't be used.\n",
      "  warnings.warn(warn_msg)\n"
     ]
    },
    {
     "data": {
      "text/plain": [
       "TrainOutput(global_step=3, training_loss=2.9846413930257163, metrics={'train_runtime': 5.9333, 'train_samples_per_second': 0.506, 'train_steps_per_second': 0.506, 'total_flos': 395682250752.0, 'train_loss': 2.9846413930257163, 'epoch': 3.0})"
      ]
     },
     "execution_count": 43,
     "metadata": {},
     "output_type": "execute_result"
    }
   ],
   "source": [
    "trainer = Trainer(\n",
    "    model=model,\n",
    "    args=training_args,\n",
    "    train_dataset=tokenized_dataset,\n",
    "    tokenizer=tokenizer,\n",
    "    data_collator=data_collator,\n",
    ")\n",
    "\n",
    "trainer.train()\n"
   ]
  },
  {
   "cell_type": "code",
   "execution_count": 44,
   "id": "d54a98e3-2855-4e65-bf7f-947f758622d4",
   "metadata": {},
   "outputs": [
    {
     "data": {
      "text/plain": [
       "('./distilgpt2-wekeza-finetuned_v4_lora\\\\tokenizer_config.json',\n",
       " './distilgpt2-wekeza-finetuned_v4_lora\\\\special_tokens_map.json',\n",
       " './distilgpt2-wekeza-finetuned_v4_lora\\\\vocab.json',\n",
       " './distilgpt2-wekeza-finetuned_v4_lora\\\\merges.txt',\n",
       " './distilgpt2-wekeza-finetuned_v4_lora\\\\added_tokens.json',\n",
       " './distilgpt2-wekeza-finetuned_v4_lora\\\\tokenizer.json')"
      ]
     },
     "execution_count": 44,
     "metadata": {},
     "output_type": "execute_result"
    }
   ],
   "source": [
    "trainer.save_model(\"./distilgpt2-wekeza-finetuned_v4_lora\")\n",
    "tokenizer.save_pretrained(\"./distilgpt2-wekeza-finetuned_v4_lora\")\n"
   ]
  },
  {
   "cell_type": "code",
   "execution_count": null,
   "id": "eb9d2b69-e6cd-4c26-88a2-2e7d7405241f",
   "metadata": {},
   "outputs": [],
   "source": []
  }
 ],
 "metadata": {
  "kernelspec": {
   "display_name": "Python 3 (ipykernel)",
   "language": "python",
   "name": "python3"
  },
  "language_info": {
   "codemirror_mode": {
    "name": "ipython",
    "version": 3
   },
   "file_extension": ".py",
   "mimetype": "text/x-python",
   "name": "python",
   "nbconvert_exporter": "python",
   "pygments_lexer": "ipython3",
   "version": "3.10.18"
  }
 },
 "nbformat": 4,
 "nbformat_minor": 5
}
